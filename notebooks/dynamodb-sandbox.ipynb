{
 "cells": [
  {
   "cell_type": "code",
   "execution_count": null,
   "metadata": {},
   "outputs": [],
   "source": [
    "import json\n",
    "import uuid\n",
    "\n",
    "import boto3\n",
    "from boto3.dynamodb.conditions import Key\n",
    "\n",
    "dyn_resource = boto3.resource(\"dynamodb\")\n",
    "\n",
    "TABLE_NAME = \"ipynb-test-table\""
   ]
  },
  {
   "cell_type": "code",
   "execution_count": null,
   "metadata": {},
   "outputs": [],
   "source": [
    "# Delete table if it already exists\n",
    "try:\n",
    "    table = dyn_resource.Table(TABLE_NAME)\n",
    "    table.delete()\n",
    "    table.wait_until_not_exists()\n",
    "    print(f\"Deleted table {TABLE_NAME}\")\n",
    "except Exception as e:\n",
    "    print(\"Table didn't exist yet, you're good.\")"
   ]
  },
  {
   "cell_type": "code",
   "execution_count": null,
   "metadata": {},
   "outputs": [],
   "source": [
    "def create_ddb_table(table_name=TABLE_NAME):\n",
    "    params = {\n",
    "        \"TableName\": table_name,\n",
    "        \"KeySchema\": [\n",
    "            {\"AttributeName\": \"partition_key\", \"KeyType\": \"HASH\"},\n",
    "            # {\"AttributeName\": \"sort_key\", \"KeyType\": \"RANGE\"},\n",
    "        ],\n",
    "        \"AttributeDefinitions\": [\n",
    "            {\"AttributeName\": \"partition_key\", \"AttributeType\": \"S\"},  # S is string\n",
    "            # {\"AttributeName\": \"sort_key\", \"AttributeType\": \"S\"},\n",
    "        ],\n",
    "        \"ProvisionedThroughput\": {\"ReadCapacityUnits\": 10, \"WriteCapacityUnits\": 10},\n",
    "    }\n",
    "    table = dyn_resource.create_table(**params)\n",
    "    print(f\"Creating {table_name}...\")\n",
    "    table.wait_until_exists()\n",
    "    print(\"Done.\")\n",
    "    return"
   ]
  },
  {
   "cell_type": "code",
   "execution_count": null,
   "metadata": {},
   "outputs": [],
   "source": [
    "create_ddb_table()"
   ]
  },
  {
   "cell_type": "code",
   "execution_count": null,
   "metadata": {},
   "outputs": [],
   "source": [
    "# Grab a pointer to the table\n",
    "table = dyn_resource.Table(name=TABLE_NAME)"
   ]
  },
  {
   "cell_type": "code",
   "execution_count": null,
   "metadata": {},
   "outputs": [],
   "source": [
    "# Write some data to table\n",
    "# Use random UUID as partition key\n",
    "# Create a field called \"some_data\" with a string in it\n",
    "this_uuid = str(uuid.uuid4())\n",
    "this_data = \"This is some david data!\"\n",
    "response = table.put_item(\n",
    "    Item={\n",
    "        \"partition_key\": this_uuid,\n",
    "        \"some_data\": this_data,\n",
    "        \"username\": \"david\"\n",
    "    }\n",
    ")\n",
    "\n",
    "this_uuid = str(uuid.uuid4())\n",
    "this_data = \"This is some kazu data!\"\n",
    "response = table.put_item(\n",
    "    Item={\n",
    "        \"partition_key\": this_uuid,\n",
    "        \"some_data\": this_data,\n",
    "        \"username\": \"kazu\"\n",
    "    }\n",
    ")"
   ]
  },
  {
   "cell_type": "code",
   "execution_count": null,
   "metadata": {},
   "outputs": [],
   "source": [
    "# Get the data back from the table based on partition_key\n",
    "kazu: dict = table.get_item(Key={\"partition_key\": this_uuid})\n",
    "print(kazu[\"Item\"][\"some_data\"])"
   ]
  },
  {
   "cell_type": "code",
   "execution_count": null,
   "metadata": {},
   "outputs": [],
   "source": [
    "# Test query functionality\n",
    "# Query on primary key (you can additionally query on sort key)\n",
    "key_condition_expression = Key(\"partition_key\").eq(this_uuid)\n",
    "qkazu: dict = table.query(KeyConditionExpression=key_condition_expression)\n",
    "print(f\"Found {len(qkazu['Items'])} values from query.\")\n",
    "print(qkazu[\"Items\"][0])"
   ]
  },
  {
   "cell_type": "code",
   "execution_count": null,
   "metadata": {},
   "outputs": [],
   "source": [
    "# Scan table with key\n",
    "scan_kwargs = {\n",
    "        \"FilterExpression\": Key(\"username\").eq(\"david\"),\n",
    "        \"ProjectionExpression\": \"some_data, #foo\",\n",
    "        \"ExpressionAttributeNames\": {\"#foo\": \"partition_key\"},\n",
    "    }\n",
    "scan_results = table.scan(**scan_kwargs)\n",
    "print(scan_results[\"Items\"])"
   ]
  },
  {
   "cell_type": "code",
   "execution_count": null,
   "metadata": {},
   "outputs": [],
   "source": [
    "# Let's make sure we can store json data (by dump to string)\n",
    "j_uuid = str(uuid.uuid4())\n",
    "j_data = {\"foo\": {\"bar\": 4}}\n",
    "table.put_item(\n",
    "    Item={\n",
    "        \"partition_key\": j_uuid,\n",
    "        \"some_data\": json.dumps(j_data),\n",
    "    }\n",
    ")"
   ]
  },
  {
   "cell_type": "code",
   "execution_count": null,
   "metadata": {},
   "outputs": [],
   "source": [
    "# Get the json data back from the table based on partition_key\n",
    "kazu: dict = table.get_item(Key={\"partition_key\": j_uuid})\n",
    "retrieved_j_data = json.loads(kazu[\"Item\"][\"some_data\"])\n",
    "print(retrieved_j_data)"
   ]
  },
  {
   "cell_type": "code",
   "execution_count": null,
   "metadata": {},
   "outputs": [],
   "source": [
    "# How do I add another row to existing partition?\n",
    "def update_entry(primary_key, new_col_name, new_col_value):\n",
    "    # Define the key of the item you want to update\n",
    "    key = {\"partition_key\": primary_key}\n",
    "\n",
    "    # Define the attribute(s) you want to add or update\n",
    "    update_expression = \"SET #new_attr = :new_value\"\n",
    "    expression_attribute_names = {\"#new_attr\": new_col_name}\n",
    "    expression_attribute_values = {\":new_value\": new_col_value}\n",
    "\n",
    "    # Update the item\n",
    "    table.update_item(\n",
    "        Key=key,\n",
    "        UpdateExpression=update_expression,\n",
    "        ExpressionAttributeNames=expression_attribute_names,\n",
    "        ExpressionAttributeValues=expression_attribute_values,\n",
    "    )"
   ]
  },
  {
   "cell_type": "code",
   "execution_count": null,
   "metadata": {},
   "outputs": [],
   "source": [
    "update_entry(this_uuid, \"NEW DATA!\", \"This is some new data!\")"
   ]
  },
  {
   "cell_type": "code",
   "execution_count": null,
   "metadata": {},
   "outputs": [],
   "source": [
    "kazu: dict = table.get_item(Key={\"partition_key\": this_uuid})\n",
    "print(kazu[\"Item\"])"
   ]
  },
  {
   "cell_type": "code",
   "execution_count": null,
   "metadata": {},
   "outputs": [],
   "source": [
    "# And overwriting existing columns?\n",
    "update_entry(this_uuid, \"NEW DATA!\", \"Does this overwrite?\")"
   ]
  },
  {
   "cell_type": "code",
   "execution_count": null,
   "metadata": {},
   "outputs": [],
   "source": [
    "kazu: dict = table.get_item(Key={\"partition_key\": this_uuid})\n",
    "print(kazu[\"Item\"])"
   ]
  },
  {
   "cell_type": "code",
   "execution_count": null,
   "metadata": {},
   "outputs": [],
   "source": [
    "# For my use case, the first lambda will create a unique id\n",
    "# that is the partition key. It will create a dynamodb entry\n",
    "# with the parent media URI as data.\n",
    "# Future lambdas will all only know about that partition key."
   ]
  },
  {
   "cell_type": "code",
   "execution_count": null,
   "metadata": {},
   "outputs": [],
   "source": [
    "prod_table = dyn_resource.Table(name=\"MAS-App-Table\")\n",
    "\n",
    "# Scan and return everything in the table\n",
    "scan_kwargs = {\n",
    "    # \"FilterExpression\": Key(\"year\").between(year_range[\"first\"], year_range[\"second\"]),\n",
    "    \"ProjectionExpression\": \"media_uri, job_creation_time, #foo\",\n",
    "    \"ExpressionAttributeNames\": {\"#foo\": \"UUID\"},\n",
    "}\n",
    "blah = prod_table.scan(**scan_kwargs)\n",
    "\n",
    "blah[\"Items\"][0].keys()"
   ]
  }
 ],
 "metadata": {
  "kernelspec": {
   "display_name": "sandbox",
   "language": "python",
   "name": "python3"
  },
  "language_info": {
   "codemirror_mode": {
    "name": "ipython",
    "version": 3
   },
   "file_extension": ".py",
   "mimetype": "text/x-python",
   "name": "python",
   "nbconvert_exporter": "python",
   "pygments_lexer": "ipython3",
   "version": "3.11.7"
  }
 },
 "nbformat": 4,
 "nbformat_minor": 2
}
