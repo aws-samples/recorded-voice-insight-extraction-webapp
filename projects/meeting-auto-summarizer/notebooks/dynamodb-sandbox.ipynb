{
 "cells": [
  {
   "cell_type": "code",
   "execution_count": 9,
   "metadata": {},
   "outputs": [],
   "source": [
    "import json\n",
    "import uuid\n",
    "\n",
    "import boto3\n",
    "from boto3.dynamodb.conditions import Key\n",
    "\n",
    "dyn_resource = boto3.resource(\"dynamodb\")\n",
    "\n",
    "TABLE_NAME = \"ipynb-test-table\""
   ]
  },
  {
   "cell_type": "code",
   "execution_count": 2,
   "metadata": {},
   "outputs": [
    {
     "name": "stdout",
     "output_type": "stream",
     "text": [
      "Deleted table ipynb-test-table\n"
     ]
    }
   ],
   "source": [
    "# Delete table if it already exists\n",
    "try:\n",
    "    table = dyn_resource.Table(TABLE_NAME)\n",
    "    table.delete()\n",
    "    table.wait_until_not_exists()\n",
    "    print(f\"Deleted table {TABLE_NAME}\")\n",
    "except Exception as e:\n",
    "    print(f\"Table didn't exist yet, you're good:\\n{e}\")"
   ]
  },
  {
   "cell_type": "code",
   "execution_count": 3,
   "metadata": {},
   "outputs": [],
   "source": [
    "def create_ddb_table(table_name=TABLE_NAME):\n",
    "    params = {\n",
    "        \"TableName\": table_name,\n",
    "        \"KeySchema\": [\n",
    "            {\"AttributeName\": \"partition_key\", \"KeyType\": \"HASH\"},\n",
    "            # {\"AttributeName\": \"sort_key\", \"KeyType\": \"RANGE\"},\n",
    "        ],\n",
    "        \"AttributeDefinitions\": [\n",
    "            {\"AttributeName\": \"partition_key\", \"AttributeType\": \"S\"},  # S is string\n",
    "            # {\"AttributeName\": \"sort_key\", \"AttributeType\": \"S\"},\n",
    "        ],\n",
    "        \"ProvisionedThroughput\": {\"ReadCapacityUnits\": 10, \"WriteCapacityUnits\": 10},\n",
    "    }\n",
    "    table = dyn_resource.create_table(**params)\n",
    "    print(f\"Creating {table_name}...\")\n",
    "    table.wait_until_exists()\n",
    "    print(\"Done.\")\n",
    "    return"
   ]
  },
  {
   "cell_type": "code",
   "execution_count": 4,
   "metadata": {},
   "outputs": [
    {
     "name": "stdout",
     "output_type": "stream",
     "text": [
      "Creating ipynb-test-table...\n"
     ]
    },
    {
     "name": "stdout",
     "output_type": "stream",
     "text": [
      "Done.\n"
     ]
    }
   ],
   "source": [
    "create_ddb_table()"
   ]
  },
  {
   "cell_type": "code",
   "execution_count": 5,
   "metadata": {},
   "outputs": [],
   "source": [
    "# Grab a pointer to the table\n",
    "table = dyn_resource.Table(TABLE_NAME)"
   ]
  },
  {
   "cell_type": "code",
   "execution_count": 6,
   "metadata": {},
   "outputs": [
    {
     "data": {
      "text/plain": [
       "{'ResponseMetadata': {'RequestId': '2295PE3EIJIDKNHS603H71I2NFVV4KQNSO5AEMVJF66Q9ASUAAJG',\n",
       "  'HTTPStatusCode': 200,\n",
       "  'HTTPHeaders': {'server': 'Server',\n",
       "   'date': 'Sun, 14 Apr 2024 16:28:13 GMT',\n",
       "   'content-type': 'application/x-amz-json-1.0',\n",
       "   'content-length': '2',\n",
       "   'connection': 'keep-alive',\n",
       "   'x-amzn-requestid': '2295PE3EIJIDKNHS603H71I2NFVV4KQNSO5AEMVJF66Q9ASUAAJG',\n",
       "   'x-amz-crc32': '2745614147'},\n",
       "  'RetryAttempts': 0}}"
      ]
     },
     "execution_count": 6,
     "metadata": {},
     "output_type": "execute_result"
    }
   ],
   "source": [
    "# Write some data to table\n",
    "# Use random UUID as partition key\n",
    "# Create a field called \"some_data\" with a string in it\n",
    "this_uuid = str(uuid.uuid4())\n",
    "this_data = \"This is some data!\"\n",
    "table.put_item(\n",
    "    Item={\n",
    "        \"partition_key\": this_uuid,\n",
    "        \"some_data\": this_data,\n",
    "    }\n",
    ")"
   ]
  },
  {
   "cell_type": "code",
   "execution_count": 7,
   "metadata": {},
   "outputs": [
    {
     "name": "stdout",
     "output_type": "stream",
     "text": [
      "This is some data!\n"
     ]
    }
   ],
   "source": [
    "# Get the data back from the table based on partition_key\n",
    "kazu: dict = table.get_item(Key={\"partition_key\": this_uuid})\n",
    "print(kazu[\"Item\"][\"some_data\"])"
   ]
  },
  {
   "cell_type": "code",
   "execution_count": 8,
   "metadata": {},
   "outputs": [
    {
     "name": "stdout",
     "output_type": "stream",
     "text": [
      "Found 1 values from query.\n",
      "{'some_data': 'This is some data!', 'partition_key': '56b9155d-e84c-48e8-974b-d7391c051a7b'}\n"
     ]
    }
   ],
   "source": [
    "# Test query functionality\n",
    "# Query on primary key (you can additionally query on sort key)\n",
    "key_condition_expression = Key(\"partition_key\").eq(this_uuid)\n",
    "qkazu: dict = table.query(KeyConditionExpression=key_condition_expression)\n",
    "print(f\"Found {len(qkazu['Items'])} values from query.\")\n",
    "print(qkazu[\"Items\"][0])"
   ]
  },
  {
   "cell_type": "code",
   "execution_count": 10,
   "metadata": {},
   "outputs": [
    {
     "data": {
      "text/plain": [
       "{'ResponseMetadata': {'RequestId': '7N634SI3MGL3A9HCH47TAGGNRRVV4KQNSO5AEMVJF66Q9ASUAAJG',\n",
       "  'HTTPStatusCode': 200,\n",
       "  'HTTPHeaders': {'server': 'Server',\n",
       "   'date': 'Sun, 14 Apr 2024 16:30:48 GMT',\n",
       "   'content-type': 'application/x-amz-json-1.0',\n",
       "   'content-length': '2',\n",
       "   'connection': 'keep-alive',\n",
       "   'x-amzn-requestid': '7N634SI3MGL3A9HCH47TAGGNRRVV4KQNSO5AEMVJF66Q9ASUAAJG',\n",
       "   'x-amz-crc32': '2745614147'},\n",
       "  'RetryAttempts': 0}}"
      ]
     },
     "execution_count": 10,
     "metadata": {},
     "output_type": "execute_result"
    }
   ],
   "source": [
    "# Let's make sure we can store json data (by dump to string)\n",
    "j_uuid = str(uuid.uuid4())\n",
    "j_data = {\"foo\": {\"bar\": 4}}\n",
    "table.put_item(\n",
    "    Item={\n",
    "        \"partition_key\": j_uuid,\n",
    "        \"some_data\": json.dumps(j_data),\n",
    "    }\n",
    ")"
   ]
  },
  {
   "cell_type": "code",
   "execution_count": 11,
   "metadata": {},
   "outputs": [
    {
     "name": "stdout",
     "output_type": "stream",
     "text": [
      "{'foo': {'bar': 4}}\n"
     ]
    }
   ],
   "source": [
    "# Get the json data back from the table based on partition_key\n",
    "kazu: dict = table.get_item(Key={\"partition_key\": j_uuid})\n",
    "retrieved_j_data = json.loads(kazu[\"Item\"][\"some_data\"])\n",
    "print(retrieved_j_data)"
   ]
  },
  {
   "cell_type": "code",
   "execution_count": 15,
   "metadata": {},
   "outputs": [],
   "source": [
    "# How do I add another row to existing partition?\n",
    "def update_entry(primary_key, new_col_name, new_col_value):\n",
    "    # Define the key of the item you want to update\n",
    "    key = {\"partition_key\": primary_key}\n",
    "\n",
    "    # Define the attribute(s) you want to add or update\n",
    "    update_expression = \"SET #new_attr = :new_value\"\n",
    "    expression_attribute_names = {\"#new_attr\": new_col_name}\n",
    "    expression_attribute_values = {\":new_value\": new_col_value}\n",
    "\n",
    "    # Update the item\n",
    "    table.update_item(\n",
    "        Key=key,\n",
    "        UpdateExpression=update_expression,\n",
    "        ExpressionAttributeNames=expression_attribute_names,\n",
    "        ExpressionAttributeValues=expression_attribute_values,\n",
    "    )"
   ]
  },
  {
   "cell_type": "code",
   "execution_count": 16,
   "metadata": {},
   "outputs": [],
   "source": [
    "update_entry(this_uuid, \"NEW DATA!\", \"This is some new data!\")"
   ]
  },
  {
   "cell_type": "code",
   "execution_count": 17,
   "metadata": {},
   "outputs": [
    {
     "name": "stdout",
     "output_type": "stream",
     "text": [
      "{'some_data': 'This is some data!', 'NEW DATA!': 'This is some new data!', 'partition_key': '56b9155d-e84c-48e8-974b-d7391c051a7b'}\n"
     ]
    }
   ],
   "source": [
    "kazu: dict = table.get_item(Key={\"partition_key\": this_uuid})\n",
    "print(kazu[\"Item\"])"
   ]
  },
  {
   "cell_type": "code",
   "execution_count": 18,
   "metadata": {},
   "outputs": [],
   "source": [
    "# And overwriting existing columns?\n",
    "update_entry(this_uuid, \"NEW DATA!\", \"Does this overwrite?\")"
   ]
  },
  {
   "cell_type": "code",
   "execution_count": 19,
   "metadata": {},
   "outputs": [
    {
     "name": "stdout",
     "output_type": "stream",
     "text": [
      "{'some_data': 'This is some data!', 'NEW DATA!': 'Does this overwrite?', 'partition_key': '56b9155d-e84c-48e8-974b-d7391c051a7b'}\n"
     ]
    }
   ],
   "source": [
    "kazu: dict = table.get_item(Key={\"partition_key\": this_uuid})\n",
    "print(kazu[\"Item\"])"
   ]
  },
  {
   "cell_type": "code",
   "execution_count": 5,
   "metadata": {},
   "outputs": [
    {
     "data": {
      "text/plain": [
       "dynamodb.Table(name='foo')"
      ]
     },
     "execution_count": 5,
     "metadata": {},
     "output_type": "execute_result"
    }
   ],
   "source": [
    "# For my use case, the first lambda will create a unique id\n",
    "# that is the partition key. It will create a dynamodb entry\n",
    "# with the parent media URI as data.\n",
    "# Future lambdas will all only know about that partition key."
   ]
  },
  {
   "cell_type": "code",
   "execution_count": null,
   "metadata": {},
   "outputs": [],
   "source": []
  }
 ],
 "metadata": {
  "kernelspec": {
   "display_name": "sandbox",
   "language": "python",
   "name": "python3"
  },
  "language_info": {
   "codemirror_mode": {
    "name": "ipython",
    "version": 3
   },
   "file_extension": ".py",
   "mimetype": "text/x-python",
   "name": "python",
   "nbconvert_exporter": "python",
   "pygments_lexer": "ipython3",
   "version": "3.11.7"
  }
 },
 "nbformat": 4,
 "nbformat_minor": 2
}
