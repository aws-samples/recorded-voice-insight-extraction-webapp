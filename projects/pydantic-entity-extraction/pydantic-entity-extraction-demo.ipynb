{
 "cells": [
  {
   "cell_type": "markdown",
   "metadata": {},
   "source": [
    "# Entity Extraction Easy Mode w/ Pydantic"
   ]
  },
  {
   "cell_type": "code",
   "execution_count": 1,
   "metadata": {},
   "outputs": [],
   "source": [
    "# Import utils like parsing between XML tags, invoking bedrock\n",
    "%run pydantic-entity-extraction-demo-utils.ipynb"
   ]
  },
  {
   "cell_type": "markdown",
   "metadata": {},
   "source": [
    "### Grab some sample text from which we want to extract entities"
   ]
  },
  {
   "cell_type": "code",
   "execution_count": 2,
   "metadata": {},
   "outputs": [],
   "source": [
    "# TODO: use curl or something to grab text\n",
    "document_text = open(\"wikipedia-text-example.txt\", \"r\").read()"
   ]
  },
  {
   "cell_type": "markdown",
   "metadata": {},
   "source": [
    "### Describe the entities you want to extract as Fields in a pydantic BaseModel"
   ]
  },
  {
   "cell_type": "code",
   "execution_count": 3,
   "metadata": {},
   "outputs": [
    {
     "name": "stdout",
     "output_type": "stream",
     "text": [
      "2.6.3\n"
     ]
    }
   ],
   "source": [
    "import pydantic\n",
    "# from pydantic import BaseModel, Field, field_validator\n",
    "\n",
    "print(pydantic.__version__)"
   ]
  },
  {
   "cell_type": "code",
   "execution_count": 4,
   "metadata": {},
   "outputs": [],
   "source": [
    "import enum\n",
    "from pydantic import BaseModel, Field, field_validator\n",
    "from typing import Optional\n",
    "\n",
    "class AgeEnum(enum.Enum):\n",
    "    baby = \"baby\"\n",
    "    child = \"child\"\n",
    "    adult = \"adult\"\n",
    "\n",
    "class Person(BaseModel):\n",
    "    name: str = Field(\n",
    "        ...,\n",
    "        description=(\"The name of the person extracted. This field is required.\"),\n",
    "        examples=[\"John Doe\", \"David Kaleko\", \"Rick Astley\"],\n",
    "    )\n",
    "    birth_year: Optional[int] = Field(\n",
    "        None,\n",
    "        description=(\n",
    "            \"The year the extracted person was born, if known. This field is optional.\"\n",
    "        ),\n",
    "        examples=[1776, 1999],\n",
    "    )\n",
    "    age_class: Optional[AgeEnum] = Field(\n",
    "        None,\n",
    "        description=(\n",
    "            \"The age maturity of the person extracted. This field is optional. \"\n",
    "        ),\n",
    "        examples=AgeEnum._member_names_,\n",
    "    )\n",
    "    job_title: Optional[str] = Field(\n",
    "        None,\n",
    "        description=(\"The job title of the person extracted. This field is optional.\"),\n",
    "        examples=[\"Software Engineer\", \"Data Scientist\", \"Pirate King\"],\n",
    "    )\n",
    "\n",
    "\n",
    "class URL(BaseModel):\n",
    "    url: str = Field(\n",
    "        ...,\n",
    "        description=(\n",
    "            \"The full URL directly extracted from the provided text.\"\n",
    "        ),\n",
    "    )\n",
    "\n",
    "\n",
    "class ExtractedEntities(BaseModel):\n",
    "    people: list[Person] = Field(\n",
    "        default=[],\n",
    "        description=(\n",
    "            \"A list of people extracted from the text. The people are ordered by the \"\n",
    "            \"order in which they appear in the text.\"\n",
    "        ),\n",
    "    )\n",
    "\n",
    "    urls: list[URL] = Field(\n",
    "        default=[],\n",
    "        description=(\"A list of all website URLs extracted from the text.\"),\n",
    "    )\n",
    "\n",
    "    @field_validator(\"urls\", mode=\"after\")\n",
    "    def validate_url(cls, values: list[URL]) -> list[URL]:\n",
    "        \"\"\"Drop any urls which don't contain \"www.\" \"\"\"\n",
    "        if not values:\n",
    "            return []\n",
    "        return [u for u in values if \"www.\" in u.url]"
   ]
  },
  {
   "cell_type": "markdown",
   "metadata": {},
   "source": [
    "### Build a prompt to extract entities"
   ]
  },
  {
   "cell_type": "code",
   "execution_count": 5,
   "metadata": {},
   "outputs": [],
   "source": [
    "PROMPT_PREFIX = (\n",
    "    \"Your goal is to extract structured information from a provided block of source_text that matches \"\n",
    "    \"the form described below.\"\n",
    ")\n",
    "FORMAT_INSTRUCTIONS = (\n",
    "    \"Please output the extracted information in JSON format. Do not output anything except \"\n",
    "    \"for the extracted information. Do not add any clarifying information. Do not add any \"\n",
    "    \"fields that are not in the schema. \"\n",
    "    \"All output must be in JSON format and follow the schema specified above. \"\n",
    "    \"Wrap the JSON in <json> tags. \"\n",
    ")\n",
    "\n",
    "\n",
    "def build_full_prompt(source_text: str) -> str:\n",
    "    prompt = PROMPT_PREFIX\n",
    "    prompt += f\"\"\"\n",
    "    <schema>\n",
    "        {ExtractedEntities.model_json_schema()}\n",
    "    </schema>\n",
    "    \"\"\"\n",
    "    prompt += f\"<source_text>{source_text}</source_text>\"\n",
    "    prompt += FORMAT_INSTRUCTIONS + \"\\n\\n\"\n",
    "\n",
    "    return prompt"
   ]
  },
  {
   "cell_type": "markdown",
   "metadata": {},
   "source": [
    "### Send the prompt to an LLM and see if it works"
   ]
  },
  {
   "cell_type": "code",
   "execution_count": 6,
   "metadata": {},
   "outputs": [
    {
     "name": "stdout",
     "output_type": "stream",
     "text": [
      "Your goal is to extract structured information from a provided block of source_text that matches the form described below.\n",
      "    <schema>\n",
      "        {'$defs': {'AgeEnum': {'enum': ['baby', 'child', 'adult'], 'title': 'AgeEnum', 'type': 'string'}, 'Person': {'properties': {'name': {'description': 'The name of the person extracted. This field is required.', 'examples': ['John Doe', 'David Kaleko', 'Rick Astley'], 'title': 'Name', 'type': 'string'}, 'birth_year': {'anyOf': [{'type': 'integer'}, {'type': 'null'}], 'default': None, 'description': 'The year the extracted person was born, if known. This field is optional.', 'examples': [1776, 1999], 'title': 'Birth Year'}, 'age_class': {'anyOf': [{'$ref': '#/$defs/AgeEnum'}, {'type': 'null'}], 'default': None, 'description': 'The age maturity of the person extracted. This field is optional. ', 'examples': ['baby', 'child', 'adult']}, 'job_title': {'anyOf': [{'type': 'string'}, {'type': 'null'}], 'default': None, 'description': 'The job title of the person extracted. This field is optional.', 'examples': ['Software Engineer', 'Data Scientist', 'Pirate King'], 'title': 'Job Title'}}, 'required': ['name'], 'title': 'Person', 'type': 'object'}, 'URL': {'properties': {'url': {'description': 'The full URL directly extracted from the provided text.', 'title': 'Url', 'type': 'string'}}, 'required': ['url'], 'title': 'URL', 'type': 'object'}}, 'properties': {'people': {'default': [], 'description': 'A list of people extracted from the text. The people are ordered by the order in which they appear in the text.', 'items': {'$ref': '#/$defs/Person'}, 'title': 'People', 'type': 'array'}, 'urls': {'default': [], 'description': 'A list of all website URLs extracted from the text.', 'items': {'$ref': '#/$defs/URL'}, 'title': 'Urls', 'type': 'array'}}, 'title': 'ExtractedEntities', 'type': 'object'}\n",
      "    </schema>\n",
      "    <source_text>\n",
      "Andrew R. Jassy (born January 13, 1968)[5][6] is an American business executive who is the president and chief executive officer (CEO) of Amazon. Before being appointed by Jeff Bezos and the Amazon board during the fourth quarter of 2020,[7][8] Jassy had been the SVP and CEO of Amazon Web Services from 2003 to 2021.[9]\n",
      "\n",
      "Early life and education\n",
      "Jassy is the son of Margery and Everett L. Jassy of Scarsdale, New York.[3] A Jew,[10][11] with Hungarian ancestry,[10] his father was a senior partner in the corporate law firm Dewey Ballantine in New York City, and chairman of the firm's management committee.[3] Jassy grew up in Scarsdale, and attended Scarsdale High School,[3][12] where he played varsity soccer and tennis.[13]\n",
      "\n",
      "Jassy graduated cum laude from Harvard College in government according to The Harvard Crimson at www.thecrimson.com, where he was advertising manager of The Harvard Crimson, before earning an MBA from Harvard Business School. In 1989, he wrote in The Crimson that the newspaper should continue to publish advertisements from Eastern Air Lines, despite an ongoing labor dispute there.[14][15][16]\n",
      "\n",
      "Career\n",
      "Jassy worked for five years after graduation before entering his MBA program as a project manager for a collectibles company, MBI, and then he and an MBI colleague started a company and closed it down.[15][17]\n",
      "\n",
      "Jassy joined Amazon as a marketing manager in 1997[13] with several other Harvard MBA colleagues.[17][15] In 2003, he and Jeff Bezos came up with the idea to create the cloud computing platform that became known as Amazon Web Services, which launched in 2006.[18] Jassy headed it and its team of 57 people.[1]\n",
      "\n",
      "Jassy also helped form ww.thisisawebsite.com!\n",
      "\n",
      "Jassy in 2016\n",
      "In 2016, Jassy was named Person of the Year by the Financial Times.[15] A month later, Jassy was promoted from senior vice president to chief executive officer of Amazon Web Services (AWS).[19][16] That year Jassy earned $36.6 million.[20]\n",
      "\n",
      "For his work as CEO of AWS, Jassy earned a base compensation of $175,000 in 2020, plus a restricted stock unit award of 4,023 shares (a value of $12,104,844.93 as of July 26, 2020[21]) of Amazon with vesting beginning in 2023. He also received a restricted stock unit award in April 2018 for 10,000 shares (a value of $30,089,100 as of July 26, 2020),[21] which vest 37.5% in 2021, 12.5% in 2022, 37.5% in 2023, and 12.5% in 2024.[22] He was succeeded as CEO of AWS by Adam Selipsky.[23]\n",
      "\n",
      "In January 2021, Bezos designated Jassy his official successor as CEO;[24] with the transition occurring on July 5, 2021.[25] As CEO of Amazon, Jassy received a ten year pay package totaling $212.7 million. The majority of the compensation package is in stock and vests over 10 years.[26]\n",
      "\n",
      "Personal life\n",
      "In 1997, Jassy married Elana Rochelle Caplan, a fashion designer for Eddie Bauer and graduate of the Philadelphia College of Textiles and Science, at a Loews Hotel in Santa Monica, California.[3] Their wedding was officiated by New York reformed Rabbi James Brandt, a cousin of Elana.[27] Both their fathers were senior partners in law firm Dewey Ballantine.[3] Jassy and Caplan have two children.[4]\n",
      "\n",
      "They live in the Capitol Hill neighborhood of Seattle in a 10,000-square-foot house bought in 2009 for $3.1 million.[2][28] In October 2020, it was reported that Jassy had bought a $6.7 million 5,500-square-foot house in Santa Monica.[29][30][28]\n",
      "\n",
      "He is chairman of Rainier Prep, a charter school in Seattle.[31]\n",
      "\n",
      "</source_text>Please output the extracted information in JSON format. Do not output anything except for the extracted information. Do not add any clarifying information. Do not add any fields that are not in the schema. All output must be in JSON format and follow the schema specified above. Wrap the JSON in <json> tags. \n",
      "\n",
      "\n"
     ]
    }
   ],
   "source": [
    "full_prompt = build_full_prompt(source_text=document_text)\n",
    "print(full_prompt)\n"
   ]
  },
  {
   "cell_type": "code",
   "execution_count": 7,
   "metadata": {},
   "outputs": [],
   "source": [
    "# model_id = \"anthropic.claude-v2\"\n",
    "# model_id = \"anthropic.claude-v2:1\"\n",
    "model_id = \"anthropic.claude-3-sonnet-20240229-v1:0\"\n",
    "# model_id = \"anthropic.claude-3-haiku-20240307-v1:0\"\n",
    "# model_id = \"anthropic.claude-instant-v1\"            # This one struggled\n",
    "\n",
    "llm_response = invoke_claude_3_with_text(full_prompt, model_id=model_id, temperature=0)"
   ]
  },
  {
   "cell_type": "code",
   "execution_count": 8,
   "metadata": {},
   "outputs": [
    {
     "name": "stdout",
     "output_type": "stream",
     "text": [
      "<json>\n",
      "{\n",
      "  \"people\": [\n",
      "    {\n",
      "      \"name\": \"Andrew R. Jassy\",\n",
      "      \"birth_year\": 1968,\n",
      "      \"age_class\": \"adult\",\n",
      "      \"job_title\": \"president and chief executive officer (CEO) of Amazon\"\n",
      "    },\n",
      "    {\n",
      "      \"name\": \"Jeff Bezos\",\n",
      "      \"age_class\": null,\n",
      "      \"job_title\": null\n",
      "    },\n",
      "    {\n",
      "      \"name\": \"Margery Jassy\",\n",
      "      \"age_class\": null,\n",
      "      \"job_title\": null\n",
      "    },\n",
      "    {\n",
      "      \"name\": \"Everett L. Jassy\",\n",
      "      \"age_class\": null,\n",
      "      \"job_title\": \"senior partner in the corporate law firm Dewey Ballantine in New York City\"\n",
      "    },\n",
      "    {\n",
      "      \"name\": \"Elana Rochelle Caplan\",\n",
      "      \"age_class\": null,\n",
      "      \"job_title\": \"fashion designer for Eddie Bauer\"\n",
      "    },\n",
      "    {\n",
      "      \"name\": \"James Brandt\",\n",
      "      \"age_class\": null,\n",
      "      \"job_title\": \"New York reformed Rabbi\"\n",
      "    },\n",
      "    {\n",
      "      \"name\": \"Adam Selipsky\",\n",
      "      \"age_class\": null,\n",
      "      \"job_title\": \"CEO of AWS\"\n",
      "    }\n",
      "  ],\n",
      "  \"urls\": [\n",
      "    {\n",
      "      \"url\": \"www.thecrimson.com\"\n",
      "    },\n",
      "    {\n",
      "      \"url\": \"ww.thisisawebsite.com\"\n",
      "    }\n",
      "  ]\n",
      "}\n",
      "</json>\n"
     ]
    }
   ],
   "source": [
    "print(llm_response)"
   ]
  },
  {
   "cell_type": "code",
   "execution_count": 9,
   "metadata": {},
   "outputs": [],
   "source": [
    "extracted_meta = ExtractedEntities.model_validate_json(\n",
    "    extract_json_content(llm_response)\n",
    ")"
   ]
  },
  {
   "cell_type": "code",
   "execution_count": 10,
   "metadata": {},
   "outputs": [
    {
     "name": "stdout",
     "output_type": "stream",
     "text": [
      "ExtractedEntities(\n",
      "    people=[\n",
      "        Person(\n",
      "            name='Andrew R. Jassy',\n",
      "            birth_year=1968,\n",
      "            age_class=<AgeEnum.adult: 'adult'>,\n",
      "            job_title='president and chief executive officer (CEO) of Amazon',\n",
      "        ),\n",
      "        Person(\n",
      "            name='Jeff Bezos',\n",
      "            birth_year=None,\n",
      "            age_class=None,\n",
      "            job_title=None,\n",
      "        ),\n",
      "        Person(\n",
      "            name='Margery Jassy',\n",
      "            birth_year=None,\n",
      "            age_class=None,\n",
      "            job_title=None,\n",
      "        ),\n",
      "        Person(\n",
      "            name='Everett L. Jassy',\n",
      "            birth_year=None,\n",
      "            age_class=None,\n",
      "            job_title='senior partner in the corporate law firm Dewey Ballantine in New York City',\n",
      "        ),\n",
      "        Person(\n",
      "            name='Elana Rochelle Caplan',\n",
      "            birth_year=None,\n",
      "            age_class=None,\n",
      "            job_title='fashion designer for Eddie Bauer',\n",
      "        ),\n",
      "        Person(\n",
      "            name='James Brandt',\n",
      "            birth_year=None,\n",
      "            age_class=None,\n",
      "            job_title='New York reformed Rabbi',\n",
      "        ),\n",
      "        Person(\n",
      "            name='Adam Selipsky',\n",
      "            birth_year=None,\n",
      "            age_class=None,\n",
      "            job_title='CEO of AWS',\n",
      "        ),\n",
      "    ],\n",
      "    urls=[\n",
      "        URL(\n",
      "            url='www.thecrimson.com',\n",
      "        ),\n",
      "    ],\n",
      ")\n"
     ]
    }
   ],
   "source": [
    "from devtools import pprint\n",
    "\n",
    "pprint(extracted_meta)"
   ]
  },
  {
   "cell_type": "code",
   "execution_count": 11,
   "metadata": {},
   "outputs": [
    {
     "name": "stdout",
     "output_type": "stream",
     "text": [
      "people=[] urls=[]\n",
      "people=[] urls=[URL(url='www.amazon.com')]\n"
     ]
    }
   ],
   "source": [
    "# Demonstrating field validator\n",
    "print(ExtractedEntities(urls=[URL(url=\"ww.amazon.com\")]))\n",
    "print(ExtractedEntities(urls=[URL(url=\"www.amazon.com\")]))"
   ]
  },
  {
   "cell_type": "code",
   "execution_count": null,
   "metadata": {},
   "outputs": [],
   "source": []
  }
 ],
 "metadata": {
  "kernelspec": {
   "display_name": "sandbox",
   "language": "python",
   "name": "python3"
  },
  "language_info": {
   "codemirror_mode": {
    "name": "ipython",
    "version": 3
   },
   "file_extension": ".py",
   "mimetype": "text/x-python",
   "name": "python",
   "nbconvert_exporter": "python",
   "pygments_lexer": "ipython3",
   "version": "3.11.7"
  }
 },
 "nbformat": 4,
 "nbformat_minor": 2
}
