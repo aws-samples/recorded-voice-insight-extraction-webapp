{
 "cells": [
  {
   "cell_type": "markdown",
   "metadata": {},
   "source": [
    "# Entity Extraction Easy Mode w/ Pydantic"
   ]
  },
  {
   "cell_type": "code",
   "execution_count": 1,
   "metadata": {},
   "outputs": [],
   "source": [
    "# Import utils like parsing between XML tags, invoking bedrock\n",
    "%run pydantic-entity-extraction-demo-utils.ipynb"
   ]
  },
  {
   "cell_type": "markdown",
   "metadata": {},
   "source": [
    "### Grab some sample text from which we want to extract entities"
   ]
  },
  {
   "cell_type": "code",
   "execution_count": 2,
   "metadata": {},
   "outputs": [],
   "source": [
    "# TODO: use curl or something to grab text\n",
    "document_text = open(\"wikipedia-text-example.txt\", \"r\").read()"
   ]
  },
  {
   "cell_type": "markdown",
   "metadata": {},
   "source": [
    "### Describe the entities you want to extract as Fields in a pydantic BaseModel"
   ]
  },
  {
   "cell_type": "code",
   "execution_count": 3,
   "metadata": {},
   "outputs": [
    {
     "name": "stdout",
     "output_type": "stream",
     "text": [
      "2.6.3\n"
     ]
    }
   ],
   "source": [
    "import pydantic\n",
    "from pydantic import BaseModel, Field, field_validator\n",
    "\n",
    "print(pydantic.__version__)"
   ]
  },
  {
   "cell_type": "code",
   "execution_count": 4,
   "metadata": {},
   "outputs": [],
   "source": [
    "import enum\n",
    "\n",
    "\n",
    "class AgeEnum(enum.Enum):\n",
    "    baby = \"baby\"\n",
    "    child = \"child\"\n",
    "    adult = \"adult\"\n",
    "\n",
    "\n",
    "class Person(BaseModel):\n",
    "    name: str | None = Field(\n",
    "        ...,\n",
    "        description=(\"The name of the person extracted. This field is required.\"),\n",
    "        examples=[\"John Doe\", \"David Kaleko\", \"Rick Astley\"],\n",
    "    )\n",
    "    age: int | None = Field(\n",
    "        default=None,\n",
    "        description=(\n",
    "            \"The age in years of the person extracted. This field is optional.\"\n",
    "        ),\n",
    "        examples=[42, 25],\n",
    "    )\n",
    "    age_class: AgeEnum | None = Field(\n",
    "        default=None,\n",
    "        description=(\n",
    "            \"The age maturity of the person extracted. This field is optional. \"\n",
    "        ),\n",
    "        examples=AgeEnum._member_names_,\n",
    "    )\n",
    "    job_title: str | None = Field(\n",
    "        default=None,\n",
    "        description=(\"The job title of the person extracted. This field is optional.\"),\n",
    "        examples=[\"Software Engineer\", \"Data Scientist\", \"Pirate King\"],\n",
    "    )\n",
    "\n",
    "\n",
    "class URL(BaseModel):\n",
    "    url: str = Field(\n",
    "        ...,\n",
    "        description=(\n",
    "            \"The full URL extracted from the provided text. \"\n",
    "            \"Copy the URL exactly character by character, do not modify it.\"\n",
    "        ),\n",
    "    )\n",
    "\n",
    "\n",
    "class ExtractedEntities(BaseModel):\n",
    "    people: list[Person] = Field(\n",
    "        default=[],\n",
    "        description=(\n",
    "            \"A list of people extracted from the text. The people are ordered by the \"\n",
    "            \"order in which they appear in the text.\"\n",
    "        ),\n",
    "    )\n",
    "\n",
    "    urls: list[URL] = Field(\n",
    "        default=[],\n",
    "        description=(\"A list of all website URLs extracted from the text.\"),\n",
    "    )\n",
    "\n",
    "    @field_validator(\"urls\", mode=\"after\")\n",
    "    def validate_url(cls, values: list[URL]) -> list[URL]:\n",
    "        \"\"\"Drop any urls which don't contain \"www.\" \"\"\"\n",
    "        if not values:\n",
    "            return []\n",
    "        return [u for u in values if \"www.\" in u.url]"
   ]
  },
  {
   "cell_type": "markdown",
   "metadata": {},
   "source": [
    "### Build a prompt to extract entities"
   ]
  },
  {
   "cell_type": "code",
   "execution_count": 5,
   "metadata": {},
   "outputs": [],
   "source": [
    "PROMPT_PREFIX = (\n",
    "    \"Your goal is to extract structured information from a provided block of source_text that matches \"\n",
    "    \"the form described below.\"\n",
    ")\n",
    "FORMAT_INSTRUCTIONS = (\n",
    "    \"Please output the extracted information in JSON format. Do not output anything except \"\n",
    "    \"for the extracted information. Do not add any clarifying information. Do not add any \"\n",
    "    \"fields that are not in the schema. \"\n",
    "    \"All output must be in JSON format and follow the schema specified above. \"\n",
    "    \"Wrap the JSON in <json> tags. \"\n",
    ")\n",
    "\n",
    "\n",
    "def build_full_prompt(source_text: str) -> str:\n",
    "    prompt = PROMPT_PREFIX\n",
    "    prompt += f\"\"\"\n",
    "    <schema>\n",
    "        {ExtractedEntities.model_json_schema()}\n",
    "    </schema>\n",
    "    \"\"\"\n",
    "    prompt += f\"<source_text>{source_text}</source_text>\"\n",
    "    prompt += FORMAT_INSTRUCTIONS + \"\\n\\n\"\n",
    "\n",
    "    return prompt"
   ]
  },
  {
   "cell_type": "markdown",
   "metadata": {},
   "source": [
    "### Send the prompt to an LLM and see if it works"
   ]
  },
  {
   "cell_type": "code",
   "execution_count": 6,
   "metadata": {},
   "outputs": [],
   "source": [
    "full_prompt = build_full_prompt(source_text=document_text)\n",
    "llm_response = invoke_claude_3_with_text(full_prompt, temperature=0)"
   ]
  },
  {
   "cell_type": "code",
   "execution_count": 7,
   "metadata": {},
   "outputs": [
    {
     "name": "stdout",
     "output_type": "stream",
     "text": [
      "<json>\n",
      "{\n",
      "  \"people\": [\n",
      "    {\n",
      "      \"name\": \"Andy Jassy\",\n",
      "      \"age\": 56,\n",
      "      \"age_class\": \"adult\",\n",
      "      \"job_title\": \"President and CEO of Amazon\"\n",
      "    },\n",
      "    {\n",
      "      \"name\": \"Jeff Bezos\",\n",
      "      \"age\": null,\n",
      "      \"age_class\": null,\n",
      "      \"job_title\": null\n",
      "    },\n",
      "    {\n",
      "      \"name\": \"Everett L. Jassy\",\n",
      "      \"age\": null,\n",
      "      \"age_class\": null,\n",
      "      \"job_title\": \"senior partner in the corporate law firm Dewey Ballantine in New York City\"\n",
      "    },\n",
      "    {\n",
      "      \"name\": \"Margery Jassy\",\n",
      "      \"age\": null,\n",
      "      \"age_class\": null,\n",
      "      \"job_title\": null\n",
      "    },\n",
      "    {\n",
      "      \"name\": \"Elana Caplan\",\n",
      "      \"age\": null,\n",
      "      \"age_class\": null,\n",
      "      \"job_title\": \"fashion designer for Eddie Bauer\"\n",
      "    },\n",
      "    {\n",
      "      \"name\": \"Adam Selipsky\",\n",
      "      \"age\": null,\n",
      "      \"age_class\": null,\n",
      "      \"job_title\": \"CEO of AWS\"\n",
      "    }\n",
      "  ],\n",
      "  \"urls\": [\n",
      "    {\n",
      "      \"url\": \"www.thecrimson.com\"\n",
      "    },\n",
      "    {\n",
      "      \"url\": \"ww.thisisawebsite.com\"\n",
      "    }\n",
      "  ]\n",
      "}\n",
      "</json>\n"
     ]
    }
   ],
   "source": [
    "print(llm_response)"
   ]
  },
  {
   "cell_type": "code",
   "execution_count": 8,
   "metadata": {},
   "outputs": [],
   "source": [
    "extracted_meta = ExtractedEntities.model_validate_json(\n",
    "    extract_json_content(llm_response)\n",
    ")"
   ]
  },
  {
   "cell_type": "code",
   "execution_count": 9,
   "metadata": {},
   "outputs": [
    {
     "name": "stdout",
     "output_type": "stream",
     "text": [
      "ExtractedEntities(\n",
      "    people=[\n",
      "        Person(\n",
      "            name='Andy Jassy',\n",
      "            age=56,\n",
      "            age_class=<AgeEnum.adult: 'adult'>,\n",
      "            job_title='President and CEO of Amazon',\n",
      "        ),\n",
      "        Person(\n",
      "            name='Jeff Bezos',\n",
      "            age=None,\n",
      "            age_class=None,\n",
      "            job_title=None,\n",
      "        ),\n",
      "        Person(\n",
      "            name='Everett L. Jassy',\n",
      "            age=None,\n",
      "            age_class=None,\n",
      "            job_title='senior partner in the corporate law firm Dewey Ballantine in New York City',\n",
      "        ),\n",
      "        Person(\n",
      "            name='Margery Jassy',\n",
      "            age=None,\n",
      "            age_class=None,\n",
      "            job_title=None,\n",
      "        ),\n",
      "        Person(\n",
      "            name='Elana Caplan',\n",
      "            age=None,\n",
      "            age_class=None,\n",
      "            job_title='fashion designer for Eddie Bauer',\n",
      "        ),\n",
      "        Person(\n",
      "            name='Adam Selipsky',\n",
      "            age=None,\n",
      "            age_class=None,\n",
      "            job_title='CEO of AWS',\n",
      "        ),\n",
      "    ],\n",
      "    urls=[\n",
      "        URL(\n",
      "            url='www.thecrimson.com',\n",
      "        ),\n",
      "    ],\n",
      ")\n"
     ]
    }
   ],
   "source": [
    "from devtools import pprint\n",
    "\n",
    "pprint(extracted_meta)"
   ]
  },
  {
   "cell_type": "code",
   "execution_count": 10,
   "metadata": {},
   "outputs": [
    {
     "name": "stdout",
     "output_type": "stream",
     "text": [
      "people=[] urls=[]\n",
      "people=[] urls=[URL(url='www.amazon.com')]\n"
     ]
    }
   ],
   "source": [
    "# Demonstrating field validator\n",
    "print(ExtractedEntities(urls=[URL(url=\"ww.amazon.com\")]))\n",
    "print(ExtractedEntities(urls=[URL(url=\"www.amazon.com\")]))"
   ]
  }
 ],
 "metadata": {
  "kernelspec": {
   "display_name": "sandbox",
   "language": "python",
   "name": "python3"
  },
  "language_info": {
   "codemirror_mode": {
    "name": "ipython",
    "version": 3
   },
   "file_extension": ".py",
   "mimetype": "text/x-python",
   "name": "python",
   "nbconvert_exporter": "python",
   "pygments_lexer": "ipython3",
   "version": "3.11.7"
  }
 },
 "nbformat": 4,
 "nbformat_minor": 2
}
