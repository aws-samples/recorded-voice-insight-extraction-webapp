{
 "cells": [
  {
   "cell_type": "markdown",
   "metadata": {},
   "source": [
    "# Use a transcript of recorded Discovery workshop to help write sections of the discovery readout document\n",
    "\n",
    "### You need to have `rapid7_dw_transcript.txt` in this folder, which is not committed to version control."
   ]
  },
  {
   "cell_type": "code",
   "execution_count": null,
   "metadata": {},
   "outputs": [],
   "source": [
    "%load_ext jupyter_black"
   ]
  },
  {
   "cell_type": "code",
   "execution_count": null,
   "metadata": {},
   "outputs": [],
   "source": [
    "import json\n",
    "import logging\n",
    "\n",
    "import boto3\n",
    "from botocore.exceptions import ClientError\n",
    "\n",
    "logger = logging.getLogger(__name__)"
   ]
  },
  {
   "cell_type": "markdown",
   "metadata": {},
   "source": [
    "### Install python bedrock SDK from reinvent (downloaded as a zip file) [[link](https://docs.aws.amazon.com/bedrock/latest/userguide/batch-inference-example.html)][[link](https://docs.aws.amazon.com/bedrock/latest/userguide/api-setup.html#api-sdk)]"
   ]
  },
  {
   "cell_type": "code",
   "execution_count": null,
   "metadata": {},
   "outputs": [],
   "source": [
    "!mkdir -p tmp-boto-install\n",
    "!unzip -qq /home/ubuntu/bedrock-python-sdk-reinvent.zip -d tmp-boto-install\n",
    "!pip install tmp-boto-install/botocore-1.32.4-py3-none-any.whl --quiet\n",
    "!pip install tmp-boto-install/boto3-1.29.4-py3-none-any.whl --quiet\n",
    "!rm -rf tmp-boto-install"
   ]
  },
  {
   "cell_type": "code",
   "execution_count": null,
   "metadata": {},
   "outputs": [],
   "source": [
    "# Test single prompt inference, to make sure connections work\n",
    "def invoke_claude_3_with_text(prompt):\n",
    "    \"\"\"\n",
    "    Invokes Anthropic Claude 3 Sonnet to run an inference using the input\n",
    "    provided in the request body.\n",
    "\n",
    "    :param prompt: The prompt that you want Claude 3 to complete.\n",
    "    :return: Inference response from the model.\n",
    "    \"\"\"\n",
    "\n",
    "    # Initialize the Amazon Bedrock runtime client\n",
    "    client = boto3.client(service_name=\"bedrock-runtime\", region_name=\"us-east-1\")\n",
    "\n",
    "    # Invoke Claude 3 with the text prompt\n",
    "    model_id = \"anthropic.claude-3-sonnet-20240229-v1:0\"\n",
    "\n",
    "    try:\n",
    "        response = client.invoke_model(\n",
    "            modelId=model_id,\n",
    "            body=json.dumps(\n",
    "                {\n",
    "                    \"anthropic_version\": \"bedrock-2023-05-31\",\n",
    "                    \"max_tokens\": 5000,\n",
    "                    \"messages\": [\n",
    "                        {\n",
    "                            \"role\": \"user\",\n",
    "                            \"content\": [{\"type\": \"text\", \"text\": prompt}],\n",
    "                        }\n",
    "                    ],\n",
    "                    \"temperature\": 1,\n",
    "                    \"top_p\": 0.999,\n",
    "                    \"top_k\": 250,\n",
    "                }\n",
    "            ),\n",
    "        )\n",
    "\n",
    "        # Process and print the response\n",
    "        result = json.loads(response.get(\"body\").read())\n",
    "        input_tokens = result[\"usage\"][\"input_tokens\"]\n",
    "        output_tokens = result[\"usage\"][\"output_tokens\"]\n",
    "        output_list = result.get(\"content\", [])\n",
    "\n",
    "        print(\"Invocation details:\")\n",
    "        print(f\"- The input length is {input_tokens} tokens.\")\n",
    "        print(f\"- The output length is {output_tokens} tokens.\")\n",
    "\n",
    "        print(f\"- The model returned {len(output_list)} response(s):\")\n",
    "        for output in output_list:\n",
    "            print(output[\"text\"])\n",
    "\n",
    "        return result\n",
    "\n",
    "    except ClientError as err:\n",
    "        logger.error(\n",
    "            \"Couldn't invoke Claude 3 Sonnet. Here's why: %s: %s\",\n",
    "            err.response[\"Error\"][\"Code\"],\n",
    "            err.response[\"Error\"][\"Message\"],\n",
    "        )\n",
    "        raise"
   ]
  },
  {
   "cell_type": "code",
   "execution_count": null,
   "metadata": {},
   "outputs": [],
   "source": [
    "def load_text(filepath: str) -> str:\n",
    "    \"\"\"Function to read filepath to text file in and return one string of the entire file\"\"\"\n",
    "    with open(filepath, \"r\") as f:\n",
    "        return f.read()"
   ]
  },
  {
   "cell_type": "code",
   "execution_count": null,
   "metadata": {},
   "outputs": [],
   "source": [
    "transcript = load_text(\"rapid7_dw_transcript.txt\")\n",
    "PROMPT_TEMPLATE = load_text(\"DWRO_prompt_template.txt\")"
   ]
  },
  {
   "cell_type": "code",
   "execution_count": null,
   "metadata": {},
   "outputs": [],
   "source": [
    "from langchain.prompts.prompt import PromptTemplate\n",
    "\n",
    "pt = PromptTemplate(input_variables=[\"transcript\"], template=PROMPT_TEMPLATE)\n",
    "\n",
    "full_prompt = pt.format(transcript=transcript)"
   ]
  },
  {
   "cell_type": "code",
   "execution_count": null,
   "metadata": {},
   "outputs": [],
   "source": [
    "kazu = invoke_claude_3_with_text(full_prompt)"
   ]
  }
 ],
 "metadata": {
  "kernelspec": {
   "display_name": "sandbox",
   "language": "python",
   "name": "python3"
  },
  "language_info": {
   "codemirror_mode": {
    "name": "ipython",
    "version": 3
   },
   "file_extension": ".py",
   "mimetype": "text/x-python",
   "name": "python",
   "nbconvert_exporter": "python",
   "pygments_lexer": "ipython3",
   "version": "3.11.7"
  }
 },
 "nbformat": 4,
 "nbformat_minor": 2
}
